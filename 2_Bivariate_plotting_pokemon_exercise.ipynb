{
 "cells": [
  {
   "cell_type": "code",
   "execution_count": 8,
   "metadata": {},
   "outputs": [],
   "source": [
    "import pandas as pd\n",
    "import matplotlib.pyplot as plt\n",
    "%matplotlib inline"
   ]
  },
  {
   "cell_type": "code",
   "execution_count": 4,
   "metadata": {},
   "outputs": [],
   "source": [
    "pokemon = pd.read_csv('Dataset/pokemon.csv',index_col=0)"
   ]
  },
  {
   "cell_type": "code",
   "execution_count": 5,
   "metadata": {},
   "outputs": [
    {
     "data": {
      "text/html": [
       "<div>\n",
       "<style>\n",
       "    .dataframe thead tr:only-child th {\n",
       "        text-align: right;\n",
       "    }\n",
       "\n",
       "    .dataframe thead th {\n",
       "        text-align: left;\n",
       "    }\n",
       "\n",
       "    .dataframe tbody tr th {\n",
       "        vertical-align: top;\n",
       "    }\n",
       "</style>\n",
       "<table border=\"1\" class=\"dataframe\">\n",
       "  <thead>\n",
       "    <tr style=\"text-align: right;\">\n",
       "      <th></th>\n",
       "      <th>against_bug</th>\n",
       "      <th>against_dark</th>\n",
       "      <th>against_dragon</th>\n",
       "      <th>against_electric</th>\n",
       "      <th>against_fairy</th>\n",
       "      <th>against_fight</th>\n",
       "      <th>against_fire</th>\n",
       "      <th>against_flying</th>\n",
       "      <th>against_ghost</th>\n",
       "      <th>against_grass</th>\n",
       "      <th>...</th>\n",
       "      <th>percentage_male</th>\n",
       "      <th>pokedex_number</th>\n",
       "      <th>sp_attack</th>\n",
       "      <th>sp_defense</th>\n",
       "      <th>speed</th>\n",
       "      <th>type1</th>\n",
       "      <th>type2</th>\n",
       "      <th>weight_kg</th>\n",
       "      <th>generation</th>\n",
       "      <th>is_legendary</th>\n",
       "    </tr>\n",
       "    <tr>\n",
       "      <th>abilities</th>\n",
       "      <th></th>\n",
       "      <th></th>\n",
       "      <th></th>\n",
       "      <th></th>\n",
       "      <th></th>\n",
       "      <th></th>\n",
       "      <th></th>\n",
       "      <th></th>\n",
       "      <th></th>\n",
       "      <th></th>\n",
       "      <th></th>\n",
       "      <th></th>\n",
       "      <th></th>\n",
       "      <th></th>\n",
       "      <th></th>\n",
       "      <th></th>\n",
       "      <th></th>\n",
       "      <th></th>\n",
       "      <th></th>\n",
       "      <th></th>\n",
       "      <th></th>\n",
       "    </tr>\n",
       "  </thead>\n",
       "  <tbody>\n",
       "    <tr>\n",
       "      <th>['Overgrow', 'Chlorophyll']</th>\n",
       "      <td>1.0</td>\n",
       "      <td>1.0</td>\n",
       "      <td>1.0</td>\n",
       "      <td>0.5</td>\n",
       "      <td>0.5</td>\n",
       "      <td>0.5</td>\n",
       "      <td>2.0</td>\n",
       "      <td>2.0</td>\n",
       "      <td>1.0</td>\n",
       "      <td>0.25</td>\n",
       "      <td>...</td>\n",
       "      <td>88.1</td>\n",
       "      <td>1</td>\n",
       "      <td>65</td>\n",
       "      <td>65</td>\n",
       "      <td>45</td>\n",
       "      <td>grass</td>\n",
       "      <td>poison</td>\n",
       "      <td>6.9</td>\n",
       "      <td>1</td>\n",
       "      <td>0</td>\n",
       "    </tr>\n",
       "    <tr>\n",
       "      <th>['Overgrow', 'Chlorophyll']</th>\n",
       "      <td>1.0</td>\n",
       "      <td>1.0</td>\n",
       "      <td>1.0</td>\n",
       "      <td>0.5</td>\n",
       "      <td>0.5</td>\n",
       "      <td>0.5</td>\n",
       "      <td>2.0</td>\n",
       "      <td>2.0</td>\n",
       "      <td>1.0</td>\n",
       "      <td>0.25</td>\n",
       "      <td>...</td>\n",
       "      <td>88.1</td>\n",
       "      <td>2</td>\n",
       "      <td>80</td>\n",
       "      <td>80</td>\n",
       "      <td>60</td>\n",
       "      <td>grass</td>\n",
       "      <td>poison</td>\n",
       "      <td>13.0</td>\n",
       "      <td>1</td>\n",
       "      <td>0</td>\n",
       "    </tr>\n",
       "    <tr>\n",
       "      <th>['Overgrow', 'Chlorophyll']</th>\n",
       "      <td>1.0</td>\n",
       "      <td>1.0</td>\n",
       "      <td>1.0</td>\n",
       "      <td>0.5</td>\n",
       "      <td>0.5</td>\n",
       "      <td>0.5</td>\n",
       "      <td>2.0</td>\n",
       "      <td>2.0</td>\n",
       "      <td>1.0</td>\n",
       "      <td>0.25</td>\n",
       "      <td>...</td>\n",
       "      <td>88.1</td>\n",
       "      <td>3</td>\n",
       "      <td>122</td>\n",
       "      <td>120</td>\n",
       "      <td>80</td>\n",
       "      <td>grass</td>\n",
       "      <td>poison</td>\n",
       "      <td>100.0</td>\n",
       "      <td>1</td>\n",
       "      <td>0</td>\n",
       "    </tr>\n",
       "    <tr>\n",
       "      <th>['Blaze', 'Solar Power']</th>\n",
       "      <td>0.5</td>\n",
       "      <td>1.0</td>\n",
       "      <td>1.0</td>\n",
       "      <td>1.0</td>\n",
       "      <td>0.5</td>\n",
       "      <td>1.0</td>\n",
       "      <td>0.5</td>\n",
       "      <td>1.0</td>\n",
       "      <td>1.0</td>\n",
       "      <td>0.50</td>\n",
       "      <td>...</td>\n",
       "      <td>88.1</td>\n",
       "      <td>4</td>\n",
       "      <td>60</td>\n",
       "      <td>50</td>\n",
       "      <td>65</td>\n",
       "      <td>fire</td>\n",
       "      <td>NaN</td>\n",
       "      <td>8.5</td>\n",
       "      <td>1</td>\n",
       "      <td>0</td>\n",
       "    </tr>\n",
       "    <tr>\n",
       "      <th>['Blaze', 'Solar Power']</th>\n",
       "      <td>0.5</td>\n",
       "      <td>1.0</td>\n",
       "      <td>1.0</td>\n",
       "      <td>1.0</td>\n",
       "      <td>0.5</td>\n",
       "      <td>1.0</td>\n",
       "      <td>0.5</td>\n",
       "      <td>1.0</td>\n",
       "      <td>1.0</td>\n",
       "      <td>0.50</td>\n",
       "      <td>...</td>\n",
       "      <td>88.1</td>\n",
       "      <td>5</td>\n",
       "      <td>80</td>\n",
       "      <td>65</td>\n",
       "      <td>80</td>\n",
       "      <td>fire</td>\n",
       "      <td>NaN</td>\n",
       "      <td>19.0</td>\n",
       "      <td>1</td>\n",
       "      <td>0</td>\n",
       "    </tr>\n",
       "  </tbody>\n",
       "</table>\n",
       "<p>5 rows × 40 columns</p>\n",
       "</div>"
      ],
      "text/plain": [
       "                             against_bug  against_dark  against_dragon  \\\n",
       "abilities                                                                \n",
       "['Overgrow', 'Chlorophyll']          1.0           1.0             1.0   \n",
       "['Overgrow', 'Chlorophyll']          1.0           1.0             1.0   \n",
       "['Overgrow', 'Chlorophyll']          1.0           1.0             1.0   \n",
       "['Blaze', 'Solar Power']             0.5           1.0             1.0   \n",
       "['Blaze', 'Solar Power']             0.5           1.0             1.0   \n",
       "\n",
       "                             against_electric  against_fairy  against_fight  \\\n",
       "abilities                                                                     \n",
       "['Overgrow', 'Chlorophyll']               0.5            0.5            0.5   \n",
       "['Overgrow', 'Chlorophyll']               0.5            0.5            0.5   \n",
       "['Overgrow', 'Chlorophyll']               0.5            0.5            0.5   \n",
       "['Blaze', 'Solar Power']                  1.0            0.5            1.0   \n",
       "['Blaze', 'Solar Power']                  1.0            0.5            1.0   \n",
       "\n",
       "                             against_fire  against_flying  against_ghost  \\\n",
       "abilities                                                                  \n",
       "['Overgrow', 'Chlorophyll']           2.0             2.0            1.0   \n",
       "['Overgrow', 'Chlorophyll']           2.0             2.0            1.0   \n",
       "['Overgrow', 'Chlorophyll']           2.0             2.0            1.0   \n",
       "['Blaze', 'Solar Power']              0.5             1.0            1.0   \n",
       "['Blaze', 'Solar Power']              0.5             1.0            1.0   \n",
       "\n",
       "                             against_grass      ...       percentage_male  \\\n",
       "abilities                                       ...                         \n",
       "['Overgrow', 'Chlorophyll']           0.25      ...                  88.1   \n",
       "['Overgrow', 'Chlorophyll']           0.25      ...                  88.1   \n",
       "['Overgrow', 'Chlorophyll']           0.25      ...                  88.1   \n",
       "['Blaze', 'Solar Power']              0.50      ...                  88.1   \n",
       "['Blaze', 'Solar Power']              0.50      ...                  88.1   \n",
       "\n",
       "                             pokedex_number  sp_attack  sp_defense  speed  \\\n",
       "abilities                                                                   \n",
       "['Overgrow', 'Chlorophyll']               1         65          65     45   \n",
       "['Overgrow', 'Chlorophyll']               2         80          80     60   \n",
       "['Overgrow', 'Chlorophyll']               3        122         120     80   \n",
       "['Blaze', 'Solar Power']                  4         60          50     65   \n",
       "['Blaze', 'Solar Power']                  5         80          65     80   \n",
       "\n",
       "                             type1   type2  weight_kg  generation  \\\n",
       "abilities                                                           \n",
       "['Overgrow', 'Chlorophyll']  grass  poison        6.9           1   \n",
       "['Overgrow', 'Chlorophyll']  grass  poison       13.0           1   \n",
       "['Overgrow', 'Chlorophyll']  grass  poison      100.0           1   \n",
       "['Blaze', 'Solar Power']      fire     NaN        8.5           1   \n",
       "['Blaze', 'Solar Power']      fire     NaN       19.0           1   \n",
       "\n",
       "                             is_legendary  \n",
       "abilities                                  \n",
       "['Overgrow', 'Chlorophyll']             0  \n",
       "['Overgrow', 'Chlorophyll']             0  \n",
       "['Overgrow', 'Chlorophyll']             0  \n",
       "['Blaze', 'Solar Power']                0  \n",
       "['Blaze', 'Solar Power']                0  \n",
       "\n",
       "[5 rows x 40 columns]"
      ]
     },
     "execution_count": 5,
     "metadata": {},
     "output_type": "execute_result"
    }
   ],
   "source": [
    "pokemon.head()"
   ]
  },
  {
   "cell_type": "code",
   "execution_count": 10,
   "metadata": {},
   "outputs": [
    {
     "data": {
      "text/plain": [
       "Index(['against_bug', 'against_dark', 'against_dragon', 'against_electric',\n",
       "       'against_fairy', 'against_fight', 'against_fire', 'against_flying',\n",
       "       'against_ghost', 'against_grass', 'against_ground', 'against_ice',\n",
       "       'against_normal', 'against_poison', 'against_psychic', 'against_rock',\n",
       "       'against_steel', 'against_water', 'attack', 'base_egg_steps',\n",
       "       'base_happiness', 'base_total', 'capture_rate', 'classfication',\n",
       "       'defense', 'experience_growth', 'height_m', 'hp', 'japanese_name',\n",
       "       'name', 'percentage_male', 'pokedex_number', 'sp_attack', 'sp_defense',\n",
       "       'speed', 'type1', 'type2', 'weight_kg', 'generation', 'is_legendary'],\n",
       "      dtype='object')"
      ]
     },
     "execution_count": 10,
     "metadata": {},
     "output_type": "execute_result"
    }
   ],
   "source": [
    "pokemon.columns"
   ]
  },
  {
   "cell_type": "code",
   "execution_count": 11,
   "metadata": {},
   "outputs": [
    {
     "data": {
      "text/plain": [
       "<matplotlib.axes._subplots.AxesSubplot at 0x9146770>"
      ]
     },
     "execution_count": 11,
     "metadata": {},
     "output_type": "execute_result"
    },
    {
     "data": {
      "image/png": "[encoded data removed]",
      "text/plain": [
       "<matplotlib.figure.Figure at 0x9098570>"
      ]
     },
     "metadata": {},
     "output_type": "display_data"
    }
   ],
   "source": [
    "pokemon.plot.scatter(x='attack',y='defense')"
   ]
  },
  {
   "cell_type": "markdown",
   "metadata": {},
   "source": [
    "-> Scatter plot of the relationship between attack and defense"
   ]
  },
  {
   "cell_type": "code",
   "execution_count": 13,
   "metadata": {},
   "outputs": [
    {
     "data": {
      "text/plain": [
       "<matplotlib.axes._subplots.AxesSubplot at 0x1ab0a70>"
      ]
     },
     "execution_count": 13,
     "metadata": {},
     "output_type": "execute_result"
    },
    {
     "data": {
      "image/png": "[encoded data removed]",
      "text/plain": [
       "<matplotlib.figure.Figure at 0x1acfdf0>"
      ]
     },
     "metadata": {},
     "output_type": "display_data"
    }
   ],
   "source": [
    "pokemon.plot.hexbin(x='attack',y='defense',gridsize=20)"
   ]
  },
  {
   "cell_type": "markdown",
   "metadata": {},
   "source": [
    "???"
   ]
  },
  {
   "cell_type": "code",
   "execution_count": 18,
   "metadata": {},
   "outputs": [],
   "source": [
    "pokemon_stats_legendary = pokemon.groupby(['is_legendary', 'generation']).mean()[['attack', 'defense']]"
   ]
  },
  {
   "cell_type": "code",
   "execution_count": 20,
   "metadata": {},
   "outputs": [
    {
     "data": {
      "text/html": [
       "<div>\n",
       "<style>\n",
       "    .dataframe thead tr:only-child th {\n",
       "        text-align: right;\n",
       "    }\n",
       "\n",
       "    .dataframe thead th {\n",
       "        text-align: left;\n",
       "    }\n",
       "\n",
       "    .dataframe tbody tr th {\n",
       "        vertical-align: top;\n",
       "    }\n",
       "</style>\n",
       "<table border=\"1\" class=\"dataframe\">\n",
       "  <thead>\n",
       "    <tr style=\"text-align: right;\">\n",
       "      <th></th>\n",
       "      <th></th>\n",
       "      <th>attack</th>\n",
       "      <th>defense</th>\n",
       "    </tr>\n",
       "    <tr>\n",
       "      <th>is_legendary</th>\n",
       "      <th>generation</th>\n",
       "      <th></th>\n",
       "      <th></th>\n",
       "    </tr>\n",
       "  </thead>\n",
       "  <tbody>\n",
       "    <tr>\n",
       "      <th rowspan=\"7\" valign=\"top\">0</th>\n",
       "      <th>1</th>\n",
       "      <td>73.486301</td>\n",
       "      <td>69.431507</td>\n",
       "    </tr>\n",
       "    <tr>\n",
       "      <th>2</th>\n",
       "      <td>68.095745</td>\n",
       "      <td>70.042553</td>\n",
       "    </tr>\n",
       "    <tr>\n",
       "      <th>3</th>\n",
       "      <td>74.080000</td>\n",
       "      <td>68.768000</td>\n",
       "    </tr>\n",
       "    <tr>\n",
       "      <th>4</th>\n",
       "      <td>79.234043</td>\n",
       "      <td>72.382979</td>\n",
       "    </tr>\n",
       "    <tr>\n",
       "      <th>5</th>\n",
       "      <td>77.608392</td>\n",
       "      <td>70.000000</td>\n",
       "    </tr>\n",
       "    <tr>\n",
       "      <th>6</th>\n",
       "      <td>71.484848</td>\n",
       "      <td>71.136364</td>\n",
       "    </tr>\n",
       "    <tr>\n",
       "      <th>7</th>\n",
       "      <td>80.238095</td>\n",
       "      <td>74.539683</td>\n",
       "    </tr>\n",
       "    <tr>\n",
       "      <th rowspan=\"7\" valign=\"top\">1</th>\n",
       "      <th>1</th>\n",
       "      <td>105.000000</td>\n",
       "      <td>89.000000</td>\n",
       "    </tr>\n",
       "    <tr>\n",
       "      <th>2</th>\n",
       "      <td>99.166667</td>\n",
       "      <td>99.166667</td>\n",
       "    </tr>\n",
       "    <tr>\n",
       "      <th>3</th>\n",
       "      <td>116.000000</td>\n",
       "      <td>121.000000</td>\n",
       "    </tr>\n",
       "    <tr>\n",
       "      <th>4</th>\n",
       "      <td>107.538462</td>\n",
       "      <td>103.538462</td>\n",
       "    </tr>\n",
       "    <tr>\n",
       "      <th>5</th>\n",
       "      <td>113.000000</td>\n",
       "      <td>93.538462</td>\n",
       "    </tr>\n",
       "    <tr>\n",
       "      <th>6</th>\n",
       "      <td>132.000000</td>\n",
       "      <td>100.166667</td>\n",
       "    </tr>\n",
       "    <tr>\n",
       "      <th>7</th>\n",
       "      <td>100.941176</td>\n",
       "      <td>90.882353</td>\n",
       "    </tr>\n",
       "  </tbody>\n",
       "</table>\n",
       "</div>"
      ],
      "text/plain": [
       "                             attack     defense\n",
       "is_legendary generation                        \n",
       "0            1            73.486301   69.431507\n",
       "             2            68.095745   70.042553\n",
       "             3            74.080000   68.768000\n",
       "             4            79.234043   72.382979\n",
       "             5            77.608392   70.000000\n",
       "             6            71.484848   71.136364\n",
       "             7            80.238095   74.539683\n",
       "1            1           105.000000   89.000000\n",
       "             2            99.166667   99.166667\n",
       "             3           116.000000  121.000000\n",
       "             4           107.538462  103.538462\n",
       "             5           113.000000   93.538462\n",
       "             6           132.000000  100.166667\n",
       "             7           100.941176   90.882353"
      ]
     },
     "execution_count": 20,
     "metadata": {},
     "output_type": "execute_result"
    }
   ],
   "source": [
    "pokemon_stats_legendary"
   ]
  },
  {
   "cell_type": "code",
   "execution_count": 19,
   "metadata": {},
   "outputs": [
    {
     "data": {
      "text/plain": [
       "<matplotlib.axes._subplots.AxesSubplot at 0xa321870>"
      ]
     },
     "execution_count": 19,
     "metadata": {},
     "output_type": "execute_result"
    },
    {
     "data": {
      "image/png": "[encoded data removed]",
      "text/plain": [
       "<matplotlib.figure.Figure at 0x1561910>"
      ]
     },
     "metadata": {},
     "output_type": "display_data"
    }
   ],
   "source": [
    "pokemon_stats_legendary.plot.bar(stacked=True)"
   ]
  },
  {
   "cell_type": "markdown",
   "metadata": {},
   "source": [
    "-> Moyenne des attaques et defenses des pokemon par legendarité et par génération"
   ]
  },
  {
   "cell_type": "code",
   "execution_count": 23,
   "metadata": {},
   "outputs": [],
   "source": [
    "pokemon_stats_by_generation = pokemon.groupby('generation').mean()[['hp', 'attack', 'defense', 'sp_attack', 'sp_defense', 'speed']]"
   ]
  },
  {
   "cell_type": "code",
   "execution_count": 24,
   "metadata": {},
   "outputs": [
    {
     "data": {
      "text/html": [
       "<div>\n",
       "<style>\n",
       "    .dataframe thead tr:only-child th {\n",
       "        text-align: right;\n",
       "    }\n",
       "\n",
       "    .dataframe thead th {\n",
       "        text-align: left;\n",
       "    }\n",
       "\n",
       "    .dataframe tbody tr th {\n",
       "        vertical-align: top;\n",
       "    }\n",
       "</style>\n",
       "<table border=\"1\" class=\"dataframe\">\n",
       "  <thead>\n",
       "    <tr style=\"text-align: right;\">\n",
       "      <th></th>\n",
       "      <th>hp</th>\n",
       "      <th>attack</th>\n",
       "      <th>defense</th>\n",
       "      <th>sp_attack</th>\n",
       "      <th>sp_defense</th>\n",
       "      <th>speed</th>\n",
       "    </tr>\n",
       "    <tr>\n",
       "      <th>generation</th>\n",
       "      <th></th>\n",
       "      <th></th>\n",
       "      <th></th>\n",
       "      <th></th>\n",
       "      <th></th>\n",
       "      <th></th>\n",
       "    </tr>\n",
       "  </thead>\n",
       "  <tbody>\n",
       "    <tr>\n",
       "      <th>1</th>\n",
       "      <td>64.344371</td>\n",
       "      <td>74.529801</td>\n",
       "      <td>70.079470</td>\n",
       "      <td>69.403974</td>\n",
       "      <td>67.741722</td>\n",
       "      <td>70.152318</td>\n",
       "    </tr>\n",
       "    <tr>\n",
       "      <th>2</th>\n",
       "      <td>70.980000</td>\n",
       "      <td>69.960000</td>\n",
       "      <td>71.790000</td>\n",
       "      <td>65.400000</td>\n",
       "      <td>73.440000</td>\n",
       "      <td>61.610000</td>\n",
       "    </tr>\n",
       "    <tr>\n",
       "      <th>3</th>\n",
       "      <td>65.666667</td>\n",
       "      <td>77.185185</td>\n",
       "      <td>72.637037</td>\n",
       "      <td>71.562963</td>\n",
       "      <td>69.392593</td>\n",
       "      <td>63.577778</td>\n",
       "    </tr>\n",
       "    <tr>\n",
       "      <th>4</th>\n",
       "      <td>73.102804</td>\n",
       "      <td>82.672897</td>\n",
       "      <td>76.168224</td>\n",
       "      <td>74.635514</td>\n",
       "      <td>74.523364</td>\n",
       "      <td>70.074766</td>\n",
       "    </tr>\n",
       "    <tr>\n",
       "      <th>5</th>\n",
       "      <td>70.314103</td>\n",
       "      <td>80.557692</td>\n",
       "      <td>71.961538</td>\n",
       "      <td>69.974359</td>\n",
       "      <td>67.711538</td>\n",
       "      <td>66.519231</td>\n",
       "    </tr>\n",
       "    <tr>\n",
       "      <th>6</th>\n",
       "      <td>71.111111</td>\n",
       "      <td>76.527778</td>\n",
       "      <td>73.555556</td>\n",
       "      <td>76.569444</td>\n",
       "      <td>73.194444</td>\n",
       "      <td>66.652778</td>\n",
       "    </tr>\n",
       "    <tr>\n",
       "      <th>7</th>\n",
       "      <td>70.575000</td>\n",
       "      <td>84.637500</td>\n",
       "      <td>78.012500</td>\n",
       "      <td>75.250000</td>\n",
       "      <td>75.650000</td>\n",
       "      <td>64.037500</td>\n",
       "    </tr>\n",
       "  </tbody>\n",
       "</table>\n",
       "</div>"
      ],
      "text/plain": [
       "                   hp     attack    defense  sp_attack  sp_defense      speed\n",
       "generation                                                                   \n",
       "1           64.344371  74.529801  70.079470  69.403974   67.741722  70.152318\n",
       "2           70.980000  69.960000  71.790000  65.400000   73.440000  61.610000\n",
       "3           65.666667  77.185185  72.637037  71.562963   69.392593  63.577778\n",
       "4           73.102804  82.672897  76.168224  74.635514   74.523364  70.074766\n",
       "5           70.314103  80.557692  71.961538  69.974359   67.711538  66.519231\n",
       "6           71.111111  76.527778  73.555556  76.569444   73.194444  66.652778\n",
       "7           70.575000  84.637500  78.012500  75.250000   75.650000  64.037500"
      ]
     },
     "execution_count": 24,
     "metadata": {},
     "output_type": "execute_result"
    }
   ],
   "source": [
    "pokemon_stats_by_generation"
   ]
  },
  {
   "cell_type": "code",
   "execution_count": 25,
   "metadata": {},
   "outputs": [
    {
     "data": {
      "text/plain": [
       "<matplotlib.axes._subplots.AxesSubplot at 0xa36b830>"
      ]
     },
     "execution_count": 25,
     "metadata": {},
     "output_type": "execute_result"
    },
    {
     "data": {
      "image/png": "[encoded data removed]",
      "text/plain": [
       "<matplotlib.figure.Figure at 0xa38fdf0>"
      ]
     },
     "metadata": {},
     "output_type": "display_data"
    }
   ],
   "source": [
    "pokemon_stats_by_generation.plot.line()"
   ]
  },
  {
   "cell_type": "markdown",
   "metadata": {},
   "source": [
    "-> moyenne de certains attributs par generation"
   ]
  },
  {
   "cell_type": "code",
   "execution_count": null,
   "metadata": {},
   "outputs": [],
   "source": []
  }
 ],
 "metadata": {
  "kernelspec": {
   "display_name": "Python 3",
   "language": "python",
   "name": "python3"
  },
  "language_info": {
   "codemirror_mode": {
    "name": "ipython",
    "version": 3
   },
   "file_extension": ".py",
   "mimetype": "text/x-python",
   "name": "python",
   "nbconvert_exporter": "python",
   "pygments_lexer": "ipython3",
   "version": "3.6.1"
  }
 },
 "nbformat": 4,
 "nbformat_minor": 2
}
